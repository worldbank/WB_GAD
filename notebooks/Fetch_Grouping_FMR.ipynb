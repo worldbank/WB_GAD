{
 "cells": [
  {
   "cell_type": "markdown",
   "id": "e88ad5c2",
   "metadata": {},
   "source": [
    "This notebook has example code for fetching WB grouping hierarchy from FMR PROD: https://fmr.worldbank.org/FMR"
   ]
  },
  {
   "cell_type": "code",
   "execution_count": 3,
   "id": "e06b90b7",
   "metadata": {},
   "outputs": [],
   "source": [
    "import requests\n",
    "import json\n",
    "import pandas as pd"
   ]
  },
  {
   "cell_type": "markdown",
   "id": "e4f38dab",
   "metadata": {},
   "source": [
    "## WB groups hierarchy\n",
    "Hierarchy contains the relations between each groups and areas.\n",
    "\n",
    "Hierarchy ID: H_REF_AREA_GROUPS  \n",
    "Version: \n",
    "- V38.0 (for FY26 - postMENA chanegs)\n",
    "- V37.0 (for FY25 - preMENA changes)\n",
    "- V36.0 (for FY24)  \n",
    "...\n"
   ]
  },
  {
   "cell_type": "code",
   "execution_count": 5,
   "id": "401e62b5",
   "metadata": {},
   "outputs": [],
   "source": [
    "grouping_version = \"38.0\"\n",
    "fmr_prod_base_url = \"https://fmr.worldbank.org/FMR/sdmx/v2/structure/\"\n",
    "\n",
    "ref_area_groups_url = f\"{fmr_prod_base_url}hierarchy/WB/H_REF_AREA_GROUPS/{grouping_version}?format=fusion-json\""
   ]
  },
  {
   "cell_type": "code",
   "execution_count": 10,
   "id": "16871889",
   "metadata": {},
   "outputs": [
    {
     "data": {
      "application/vnd.microsoft.datawrangler.viewer.v0+json": {
       "columns": [
        {
         "name": "index",
         "rawType": "int64",
         "type": "integer"
        },
        {
         "name": "Group Type",
         "rawType": "object",
         "type": "string"
        },
        {
         "name": "Group",
         "rawType": "object",
         "type": "string"
        },
        {
         "name": "Economy in group",
         "rawType": "object",
         "type": "string"
        }
       ],
       "ref": "aeb363f1-9bc4-47b6-afff-7d47890f61fa",
       "rows": [
        [
         "0",
         "REGION",
         "AFE",
         "AGO"
        ],
        [
         "1",
         "REGION",
         "AFE",
         "BWA"
        ],
        [
         "2",
         "REGION",
         "AFE",
         "BDI"
        ],
        [
         "3",
         "REGION",
         "AFE",
         "COM"
        ],
        [
         "4",
         "REGION",
         "AFE",
         "COD"
        ],
        [
         "5",
         "REGION",
         "AFE",
         "ERI"
        ],
        [
         "6",
         "REGION",
         "AFE",
         "SWZ"
        ],
        [
         "7",
         "REGION",
         "AFE",
         "ETH"
        ],
        [
         "8",
         "REGION",
         "AFE",
         "KEN"
        ],
        [
         "9",
         "REGION",
         "AFE",
         "LSO"
        ],
        [
         "10",
         "REGION",
         "AFE",
         "MDG"
        ],
        [
         "11",
         "REGION",
         "AFE",
         "MWI"
        ],
        [
         "12",
         "REGION",
         "AFE",
         "MUS"
        ],
        [
         "13",
         "REGION",
         "AFE",
         "MOZ"
        ],
        [
         "14",
         "REGION",
         "AFE",
         "NAM"
        ],
        [
         "15",
         "REGION",
         "AFE",
         "RWA"
        ],
        [
         "16",
         "REGION",
         "AFE",
         "STP"
        ],
        [
         "17",
         "REGION",
         "AFE",
         "SYC"
        ],
        [
         "18",
         "REGION",
         "AFE",
         "SOM"
        ],
        [
         "19",
         "REGION",
         "AFE",
         "ZAF"
        ],
        [
         "20",
         "REGION",
         "AFE",
         "SSD"
        ],
        [
         "21",
         "REGION",
         "AFE",
         "SDN"
        ],
        [
         "22",
         "REGION",
         "AFE",
         "TZA"
        ],
        [
         "23",
         "REGION",
         "AFE",
         "UGA"
        ],
        [
         "24",
         "REGION",
         "AFE",
         "ZMB"
        ],
        [
         "25",
         "REGION",
         "AFE",
         "ZWE"
        ],
        [
         "26",
         "REGION",
         "AFW",
         "BEN"
        ],
        [
         "27",
         "REGION",
         "AFW",
         "BFA"
        ],
        [
         "28",
         "REGION",
         "AFW",
         "CPV"
        ],
        [
         "29",
         "REGION",
         "AFW",
         "CMR"
        ],
        [
         "30",
         "REGION",
         "AFW",
         "CAF"
        ],
        [
         "31",
         "REGION",
         "AFW",
         "TCD"
        ],
        [
         "32",
         "REGION",
         "AFW",
         "COG"
        ],
        [
         "33",
         "REGION",
         "AFW",
         "CIV"
        ],
        [
         "34",
         "REGION",
         "AFW",
         "GNQ"
        ],
        [
         "35",
         "REGION",
         "AFW",
         "GAB"
        ],
        [
         "36",
         "REGION",
         "AFW",
         "GMB"
        ],
        [
         "37",
         "REGION",
         "AFW",
         "GHA"
        ],
        [
         "38",
         "REGION",
         "AFW",
         "GIN"
        ],
        [
         "39",
         "REGION",
         "AFW",
         "GNB"
        ],
        [
         "40",
         "REGION",
         "AFW",
         "LBR"
        ],
        [
         "41",
         "REGION",
         "AFW",
         "MLI"
        ],
        [
         "42",
         "REGION",
         "AFW",
         "MRT"
        ],
        [
         "43",
         "REGION",
         "AFW",
         "NER"
        ],
        [
         "44",
         "REGION",
         "AFW",
         "NGA"
        ],
        [
         "45",
         "REGION",
         "AFW",
         "SEN"
        ],
        [
         "46",
         "REGION",
         "AFW",
         "SLE"
        ],
        [
         "47",
         "REGION",
         "AFW",
         "TGO"
        ],
        [
         "48",
         "REGION",
         "ARB",
         "DZA"
        ],
        [
         "49",
         "REGION",
         "ARB",
         "BHR"
        ]
       ],
       "shape": {
        "columns": 3,
        "rows": 4406
       }
      },
      "text/html": [
       "<div>\n",
       "<style scoped>\n",
       "    .dataframe tbody tr th:only-of-type {\n",
       "        vertical-align: middle;\n",
       "    }\n",
       "\n",
       "    .dataframe tbody tr th {\n",
       "        vertical-align: top;\n",
       "    }\n",
       "\n",
       "    .dataframe thead th {\n",
       "        text-align: right;\n",
       "    }\n",
       "</style>\n",
       "<table border=\"1\" class=\"dataframe\">\n",
       "  <thead>\n",
       "    <tr style=\"text-align: right;\">\n",
       "      <th></th>\n",
       "      <th>Group Type</th>\n",
       "      <th>Group</th>\n",
       "      <th>Economy in group</th>\n",
       "    </tr>\n",
       "  </thead>\n",
       "  <tbody>\n",
       "    <tr>\n",
       "      <th>0</th>\n",
       "      <td>REGION</td>\n",
       "      <td>AFE</td>\n",
       "      <td>AGO</td>\n",
       "    </tr>\n",
       "    <tr>\n",
       "      <th>1</th>\n",
       "      <td>REGION</td>\n",
       "      <td>AFE</td>\n",
       "      <td>BWA</td>\n",
       "    </tr>\n",
       "    <tr>\n",
       "      <th>2</th>\n",
       "      <td>REGION</td>\n",
       "      <td>AFE</td>\n",
       "      <td>BDI</td>\n",
       "    </tr>\n",
       "    <tr>\n",
       "      <th>3</th>\n",
       "      <td>REGION</td>\n",
       "      <td>AFE</td>\n",
       "      <td>COM</td>\n",
       "    </tr>\n",
       "    <tr>\n",
       "      <th>4</th>\n",
       "      <td>REGION</td>\n",
       "      <td>AFE</td>\n",
       "      <td>COD</td>\n",
       "    </tr>\n",
       "    <tr>\n",
       "      <th>...</th>\n",
       "      <td>...</td>\n",
       "      <td>...</td>\n",
       "      <td>...</td>\n",
       "    </tr>\n",
       "    <tr>\n",
       "      <th>4401</th>\n",
       "      <td>CONTINENT</td>\n",
       "      <td>009</td>\n",
       "      <td>WSM</td>\n",
       "    </tr>\n",
       "    <tr>\n",
       "      <th>4402</th>\n",
       "      <td>CONTINENT</td>\n",
       "      <td>009</td>\n",
       "      <td>TKL</td>\n",
       "    </tr>\n",
       "    <tr>\n",
       "      <th>4403</th>\n",
       "      <td>CONTINENT</td>\n",
       "      <td>009</td>\n",
       "      <td>TON</td>\n",
       "    </tr>\n",
       "    <tr>\n",
       "      <th>4404</th>\n",
       "      <td>CONTINENT</td>\n",
       "      <td>009</td>\n",
       "      <td>TUV</td>\n",
       "    </tr>\n",
       "    <tr>\n",
       "      <th>4405</th>\n",
       "      <td>CONTINENT</td>\n",
       "      <td>009</td>\n",
       "      <td>WLF</td>\n",
       "    </tr>\n",
       "  </tbody>\n",
       "</table>\n",
       "<p>4406 rows × 3 columns</p>\n",
       "</div>"
      ],
      "text/plain": [
       "     Group Type Group Economy in group\n",
       "0        REGION   AFE              AGO\n",
       "1        REGION   AFE              BWA\n",
       "2        REGION   AFE              BDI\n",
       "3        REGION   AFE              COM\n",
       "4        REGION   AFE              COD\n",
       "...         ...   ...              ...\n",
       "4401  CONTINENT   009              WSM\n",
       "4402  CONTINENT   009              TKL\n",
       "4403  CONTINENT   009              TON\n",
       "4404  CONTINENT   009              TUV\n",
       "4405  CONTINENT   009              WLF\n",
       "\n",
       "[4406 rows x 3 columns]"
      ]
     },
     "execution_count": 10,
     "metadata": {},
     "output_type": "execute_result"
    }
   ],
   "source": [
    "# Extracting hierarchical codes from hierarchy\n",
    "response = requests.get(ref_area_groups_url).json()\n",
    "\n",
    "code_data = []\n",
    "for item in response[\"Hierarchy\"][0][\"codes\"]:\n",
    "    for sub_item in item[\"codes\"]:\n",
    "        if \"codes\" in sub_item:\n",
    "            for sub2_item in sub_item[\"codes\"]:\n",
    "                code_data.append({\"Code_URN\": sub2_item[\"urn\"].split(\")\")[-1]})\n",
    "\n",
    "hierarchy = pd.DataFrame(code_data)\n",
    "hierarchy_split = (\n",
    "    hierarchy[\"Code_URN\"].str.split(\".\", expand=True).drop(columns=[0])\n",
    ")\n",
    "hierarchy_split = hierarchy_split.rename(\n",
    "    columns={1: \"Group Type\", 2: \"Group\", 3: \"Economy in group\"}\n",
    ")\n",
    "hierarchy_split"
   ]
  },
  {
   "cell_type": "markdown",
   "id": "59307311",
   "metadata": {},
   "source": [
    "## WB groups codelist\n",
    "Codelist contains the ID and name for each area.\n",
    "\n",
    "Codelist ID: WB:CL_AREA  \n",
    "Version: V2.0 "
   ]
  },
  {
   "cell_type": "code",
   "execution_count": 12,
   "id": "b26bf360",
   "metadata": {},
   "outputs": [],
   "source": [
    "name_version = \"2.0\"\n",
    "fmr_prod_base_url = \"https://fmr.worldbank.org/FMR/sdmx/v2/structure/\"\n",
    "\n",
    "ref_area_name_url = f\"{fmr_prod_base_url}codelist/WB/CL_AREA/{name_version}?format=fusion-json\""
   ]
  },
  {
   "cell_type": "code",
   "execution_count": 13,
   "id": "180ce246",
   "metadata": {},
   "outputs": [
    {
     "data": {
      "application/vnd.microsoft.datawrangler.viewer.v0+json": {
       "columns": [
        {
         "name": "index",
         "rawType": "int64",
         "type": "integer"
        },
        {
         "name": "Code",
         "rawType": "object",
         "type": "string"
        },
        {
         "name": "Value",
         "rawType": "object",
         "type": "string"
        }
       ],
       "ref": "47df939c-813e-4f97-84f6-6bbb8b339bce",
       "rows": [
        [
         "0",
         "ESCOM",
         "Electricity Supply Corporation of Malawi (ESCOM)"
        ],
        [
         "1",
         "ESKOM",
         "Eskom (ESKOM)"
        ],
        [
         "2",
         "WLD",
         "World"
        ],
        [
         "3",
         "DFS",
         "IDA countries classified as fragile situations"
        ],
        [
         "4",
         "BSA",
         "South Asia (IBRD only)"
        ],
        [
         "5",
         "SDC",
         "Southern African Development Community"
        ],
        [
         "6",
         "BWA_BPC",
         "Botswana Power Corporation  (BWA_BPC)"
        ],
        [
         "7",
         "BEDC",
         "Benin Electricity Distribution Company (BEDC)"
        ],
        [
         "8",
         "CEA",
         "Central Asia (SDG aggregate)"
        ],
        [
         "9",
         "9AF",
         "UN M49 Africa"
        ],
        [
         "10",
         "WLT",
         "World (WBG members)"
        ],
        [
         "11",
         "CEC",
         "Copperbelt Energy Corporation (CEC)"
        ],
        [
         "12",
         "CEB",
         "Central Europe and the Baltics"
        ],
        [
         "13",
         "BSS",
         "Sub-Saharan Africa (IBRD only)"
        ],
        [
         "14",
         "9AM",
         "UN M49 Americas"
        ],
        [
         "15",
         "KenyaPow",
         "Kenya Power and Lighting Company (Kenya Pow)"
        ],
        [
         "16",
         "MIC",
         "Middle income"
        ],
        [
         "17",
         "9AS",
         "UN M49 Asia"
        ],
        [
         "18",
         "SEA",
         "South-Eastern Asia (excluding high income)"
        ],
        [
         "19",
         "001",
         "World"
        ],
        [
         "20",
         "ARB",
         "Arab World"
        ],
        [
         "21",
         "002",
         "Africa"
        ],
        [
         "22",
         "9AZ",
         "UN M49 Australia and New Zealand"
        ],
        [
         "23",
         "003",
         "North America"
        ],
        [
         "24",
         "005",
         "South America"
        ],
        [
         "25",
         "009",
         "Oceania"
        ],
        [
         "26",
         "HPC",
         "Heavily indebted poor countries (HIPC)"
        ],
        [
         "27",
         "MIX",
         "Middle income, excluding China & India"
        ],
        [
         "28",
         "SER",
         "Southern Europe (excluding high income)"
        ],
        [
         "29",
         "24F",
         "FY24 IDA countries classified as fragile situations"
        ],
        [
         "30",
         "9SA",
         "UN M49 Southern Asia (MDG=M49)"
        ],
        [
         "31",
         "EDM_MOZ",
         "Electricidade de Moçambique (EDM_MOZ)"
        ],
        [
         "32",
         "IBB",
         "IBRD, including blend"
        ],
        [
         "33",
         "SEUR",
         "Southern Europe"
        ],
        [
         "34",
         "IBD",
         "IBRD only"
        ],
        [
         "35",
         "I24",
         "FY24 IDA total"
        ],
        [
         "36",
         "9SE",
         "UN M49 South-eastern Asia (MDG=M49)"
        ],
        [
         "37",
         "9SF",
         "UN M49 Southern Africa"
        ],
        [
         "38",
         "I25",
         "FY25 IDA total"
        ],
        [
         "39",
         "CFR",
         "Central Africa (excluding high income)"
        ],
        [
         "40",
         "24T",
         "FY24 IDA & IBRD countries classified as fragile situations"
        ],
        [
         "41",
         "SEEG",
         "La Société d'Energie et d'Eau du Gabon (SEEG)"
        ],
        [
         "42",
         "9SM",
         "UN M49 South America"
        ],
        [
         "43",
         "SAMR",
         "South America"
        ],
        [
         "44",
         "9CA",
         "UN M49 Central Asia"
        ],
        [
         "45",
         "ASI",
         "Asia"
        ],
        [
         "46",
         "EAGB",
         "Electricidade e Aguas de Guine-Bissau (EAGB)"
        ],
        [
         "47",
         "KEDCO",
         "Kano Electricity Distribution Company (KEDCO)"
        ],
        [
         "48",
         "9SS",
         "UN M49 Sub-Saharan Africa"
        ],
        [
         "49",
         "IBT",
         "IDA & IBRD total"
        ]
       ],
       "shape": {
        "columns": 2,
        "rows": 578
       }
      },
      "text/html": [
       "<div>\n",
       "<style scoped>\n",
       "    .dataframe tbody tr th:only-of-type {\n",
       "        vertical-align: middle;\n",
       "    }\n",
       "\n",
       "    .dataframe tbody tr th {\n",
       "        vertical-align: top;\n",
       "    }\n",
       "\n",
       "    .dataframe thead th {\n",
       "        text-align: right;\n",
       "    }\n",
       "</style>\n",
       "<table border=\"1\" class=\"dataframe\">\n",
       "  <thead>\n",
       "    <tr style=\"text-align: right;\">\n",
       "      <th></th>\n",
       "      <th>Code</th>\n",
       "      <th>Value</th>\n",
       "    </tr>\n",
       "  </thead>\n",
       "  <tbody>\n",
       "    <tr>\n",
       "      <th>0</th>\n",
       "      <td>ESCOM</td>\n",
       "      <td>Electricity Supply Corporation of Malawi (ESCOM)</td>\n",
       "    </tr>\n",
       "    <tr>\n",
       "      <th>1</th>\n",
       "      <td>ESKOM</td>\n",
       "      <td>Eskom (ESKOM)</td>\n",
       "    </tr>\n",
       "    <tr>\n",
       "      <th>2</th>\n",
       "      <td>WLD</td>\n",
       "      <td>World</td>\n",
       "    </tr>\n",
       "    <tr>\n",
       "      <th>3</th>\n",
       "      <td>DFS</td>\n",
       "      <td>IDA countries classified as fragile situations</td>\n",
       "    </tr>\n",
       "    <tr>\n",
       "      <th>4</th>\n",
       "      <td>BSA</td>\n",
       "      <td>South Asia (IBRD only)</td>\n",
       "    </tr>\n",
       "    <tr>\n",
       "      <th>...</th>\n",
       "      <td>...</td>\n",
       "      <td>...</td>\n",
       "    </tr>\n",
       "    <tr>\n",
       "      <th>573</th>\n",
       "      <td>THI</td>\n",
       "      <td>High income (IDA &amp; IBRD)</td>\n",
       "    </tr>\n",
       "    <tr>\n",
       "      <th>574</th>\n",
       "      <td>TLM</td>\n",
       "      <td>Lower middle income (IDA &amp; IBRD)</td>\n",
       "    </tr>\n",
       "    <tr>\n",
       "      <th>575</th>\n",
       "      <td>TUM</td>\n",
       "      <td>Upper middle income (IDA &amp; IBRD)</td>\n",
       "    </tr>\n",
       "    <tr>\n",
       "      <th>576</th>\n",
       "      <td>KEN_POW</td>\n",
       "      <td>Kenya Power and Lighting Company (Kenya Pow)</td>\n",
       "    </tr>\n",
       "    <tr>\n",
       "      <th>577</th>\n",
       "      <td>_T</td>\n",
       "      <td>Overall</td>\n",
       "    </tr>\n",
       "  </tbody>\n",
       "</table>\n",
       "<p>578 rows × 2 columns</p>\n",
       "</div>"
      ],
      "text/plain": [
       "        Code                                             Value\n",
       "0      ESCOM  Electricity Supply Corporation of Malawi (ESCOM)\n",
       "1      ESKOM                                     Eskom (ESKOM)\n",
       "2        WLD                                             World\n",
       "3        DFS    IDA countries classified as fragile situations\n",
       "4        BSA                            South Asia (IBRD only)\n",
       "..       ...                                               ...\n",
       "573      THI                          High income (IDA & IBRD)\n",
       "574      TLM                  Lower middle income (IDA & IBRD)\n",
       "575      TUM                  Upper middle income (IDA & IBRD)\n",
       "576  KEN_POW      Kenya Power and Lighting Company (Kenya Pow)\n",
       "577       _T                                           Overall\n",
       "\n",
       "[578 rows x 2 columns]"
      ]
     },
     "execution_count": 13,
     "metadata": {},
     "output_type": "execute_result"
    }
   ],
   "source": [
    "# Extracting hierarchical names from codelist\n",
    "response = requests.get(ref_area_name_url).json()\n",
    "\n",
    "name_data = []\n",
    "for item in response[\"Codelist\"]:\n",
    "    for sub_item in item[\"items\"]:\n",
    "        name_data.append(\n",
    "            {\"Code\": sub_item[\"id\"], \"Value\": sub_item[\"names\"][0][\"value\"]}\n",
    "        )\n",
    "\n",
    "name = pd.DataFrame(name_data)\n",
    "name "
   ]
  },
  {
   "cell_type": "code",
   "execution_count": 20,
   "id": "02621b4a",
   "metadata": {},
   "outputs": [
    {
     "data": {
      "application/vnd.microsoft.datawrangler.viewer.v0+json": {
       "columns": [
        {
         "name": "index",
         "rawType": "int64",
         "type": "integer"
        },
        {
         "name": "Group Type",
         "rawType": "object",
         "type": "string"
        },
        {
         "name": "Group",
         "rawType": "object",
         "type": "string"
        },
        {
         "name": "Group name",
         "rawType": "object",
         "type": "string"
        },
        {
         "name": "Economy in group",
         "rawType": "object",
         "type": "string"
        },
        {
         "name": "Economy in group name",
         "rawType": "object",
         "type": "string"
        }
       ],
       "ref": "81d35fd6-ef70-4037-9346-4eadf610f36b",
       "rows": [
        [
         "0",
         "REGION",
         "AFE",
         "Eastern & Southern Africa",
         "AGO",
         "Angola"
        ],
        [
         "1",
         "REGION",
         "AFE",
         "Eastern & Southern Africa",
         "BWA",
         "Botswana"
        ],
        [
         "2",
         "REGION",
         "AFE",
         "Eastern & Southern Africa",
         "BDI",
         "Burundi"
        ],
        [
         "3",
         "REGION",
         "AFE",
         "Eastern & Southern Africa",
         "COM",
         "Comoros"
        ],
        [
         "4",
         "REGION",
         "AFE",
         "Eastern & Southern Africa",
         "COD",
         "Congo, Dem. Rep."
        ],
        [
         "5",
         "REGION",
         "AFE",
         "Eastern & Southern Africa",
         "ERI",
         "Eritrea"
        ],
        [
         "6",
         "REGION",
         "AFE",
         "Eastern & Southern Africa",
         "SWZ",
         "Eswatini"
        ],
        [
         "7",
         "REGION",
         "AFE",
         "Eastern & Southern Africa",
         "ETH",
         "Ethiopia"
        ],
        [
         "8",
         "REGION",
         "AFE",
         "Eastern & Southern Africa",
         "KEN",
         "Kenya"
        ],
        [
         "9",
         "REGION",
         "AFE",
         "Eastern & Southern Africa",
         "LSO",
         "Lesotho"
        ],
        [
         "10",
         "REGION",
         "AFE",
         "Eastern & Southern Africa",
         "MDG",
         "Madagascar"
        ],
        [
         "11",
         "REGION",
         "AFE",
         "Eastern & Southern Africa",
         "MWI",
         "Malawi"
        ],
        [
         "12",
         "REGION",
         "AFE",
         "Eastern & Southern Africa",
         "MUS",
         "Mauritius"
        ],
        [
         "13",
         "REGION",
         "AFE",
         "Eastern & Southern Africa",
         "MOZ",
         "Mozambique"
        ],
        [
         "14",
         "REGION",
         "AFE",
         "Eastern & Southern Africa",
         "NAM",
         "Namibia"
        ],
        [
         "15",
         "REGION",
         "AFE",
         "Eastern & Southern Africa",
         "RWA",
         "Rwanda"
        ],
        [
         "16",
         "REGION",
         "AFE",
         "Eastern & Southern Africa",
         "STP",
         "São Tomé and Príncipe"
        ],
        [
         "17",
         "REGION",
         "AFE",
         "Eastern & Southern Africa",
         "SYC",
         "Seychelles"
        ],
        [
         "18",
         "REGION",
         "AFE",
         "Eastern & Southern Africa",
         "SOM",
         "Federal Republic of Somalia"
        ],
        [
         "19",
         "REGION",
         "AFE",
         "Eastern & Southern Africa",
         "ZAF",
         "South Africa"
        ],
        [
         "20",
         "REGION",
         "AFE",
         "Eastern & Southern Africa",
         "SSD",
         "South Sudan"
        ],
        [
         "21",
         "REGION",
         "AFE",
         "Eastern & Southern Africa",
         "SDN",
         "Sudan"
        ],
        [
         "22",
         "REGION",
         "AFE",
         "Eastern & Southern Africa",
         "TZA",
         "Tanzania"
        ],
        [
         "23",
         "REGION",
         "AFE",
         "Eastern & Southern Africa",
         "UGA",
         "Uganda"
        ],
        [
         "24",
         "REGION",
         "AFE",
         "Eastern & Southern Africa",
         "ZMB",
         "Zambia"
        ],
        [
         "25",
         "REGION",
         "AFE",
         "Eastern & Southern Africa",
         "ZWE",
         "Zimbabwe"
        ],
        [
         "26",
         "REGION",
         "AFW",
         "Western & Central Africa",
         "BEN",
         "Benin"
        ],
        [
         "27",
         "REGION",
         "AFW",
         "Western & Central Africa",
         "BFA",
         "Burkina Faso"
        ],
        [
         "28",
         "REGION",
         "AFW",
         "Western & Central Africa",
         "CPV",
         "Cabo Verde"
        ],
        [
         "29",
         "REGION",
         "AFW",
         "Western & Central Africa",
         "CMR",
         "Cameroon"
        ],
        [
         "30",
         "REGION",
         "AFW",
         "Western & Central Africa",
         "CAF",
         "Central African Republic"
        ],
        [
         "31",
         "REGION",
         "AFW",
         "Western & Central Africa",
         "TCD",
         "Chad"
        ],
        [
         "32",
         "REGION",
         "AFW",
         "Western & Central Africa",
         "COG",
         "Congo, Rep."
        ],
        [
         "33",
         "REGION",
         "AFW",
         "Western & Central Africa",
         "CIV",
         "Côte d’Ivoire"
        ],
        [
         "34",
         "REGION",
         "AFW",
         "Western & Central Africa",
         "GNQ",
         "Equatorial Guinea"
        ],
        [
         "35",
         "REGION",
         "AFW",
         "Western & Central Africa",
         "GAB",
         "Gabon"
        ],
        [
         "36",
         "REGION",
         "AFW",
         "Western & Central Africa",
         "GMB",
         "Gambia, The"
        ],
        [
         "37",
         "REGION",
         "AFW",
         "Western & Central Africa",
         "GHA",
         "Ghana"
        ],
        [
         "38",
         "REGION",
         "AFW",
         "Western & Central Africa",
         "GIN",
         "Guinea"
        ],
        [
         "39",
         "REGION",
         "AFW",
         "Western & Central Africa",
         "GNB",
         "Guinea-Bissau"
        ],
        [
         "40",
         "REGION",
         "AFW",
         "Western & Central Africa",
         "LBR",
         "Liberia"
        ],
        [
         "41",
         "REGION",
         "AFW",
         "Western & Central Africa",
         "MLI",
         "Mali"
        ],
        [
         "42",
         "REGION",
         "AFW",
         "Western & Central Africa",
         "MRT",
         "Mauritania"
        ],
        [
         "43",
         "REGION",
         "AFW",
         "Western & Central Africa",
         "NER",
         "Niger"
        ],
        [
         "44",
         "REGION",
         "AFW",
         "Western & Central Africa",
         "NGA",
         "Nigeria"
        ],
        [
         "45",
         "REGION",
         "AFW",
         "Western & Central Africa",
         "SEN",
         "Senegal"
        ],
        [
         "46",
         "REGION",
         "AFW",
         "Western & Central Africa",
         "SLE",
         "Sierra Leone"
        ],
        [
         "47",
         "REGION",
         "AFW",
         "Western & Central Africa",
         "TGO",
         "Togo"
        ],
        [
         "48",
         "REGION",
         "ARB",
         "Arab World",
         "DZA",
         "Algeria"
        ],
        [
         "49",
         "REGION",
         "ARB",
         "Arab World",
         "BHR",
         "Bahrain"
        ]
       ],
       "shape": {
        "columns": 5,
        "rows": 4406
       }
      },
      "text/html": [
       "<div>\n",
       "<style scoped>\n",
       "    .dataframe tbody tr th:only-of-type {\n",
       "        vertical-align: middle;\n",
       "    }\n",
       "\n",
       "    .dataframe tbody tr th {\n",
       "        vertical-align: top;\n",
       "    }\n",
       "\n",
       "    .dataframe thead th {\n",
       "        text-align: right;\n",
       "    }\n",
       "</style>\n",
       "<table border=\"1\" class=\"dataframe\">\n",
       "  <thead>\n",
       "    <tr style=\"text-align: right;\">\n",
       "      <th></th>\n",
       "      <th>Group Type</th>\n",
       "      <th>Group</th>\n",
       "      <th>Group name</th>\n",
       "      <th>Economy in group</th>\n",
       "      <th>Economy in group name</th>\n",
       "    </tr>\n",
       "  </thead>\n",
       "  <tbody>\n",
       "    <tr>\n",
       "      <th>0</th>\n",
       "      <td>REGION</td>\n",
       "      <td>AFE</td>\n",
       "      <td>Eastern &amp; Southern Africa</td>\n",
       "      <td>AGO</td>\n",
       "      <td>Angola</td>\n",
       "    </tr>\n",
       "    <tr>\n",
       "      <th>1</th>\n",
       "      <td>REGION</td>\n",
       "      <td>AFE</td>\n",
       "      <td>Eastern &amp; Southern Africa</td>\n",
       "      <td>BWA</td>\n",
       "      <td>Botswana</td>\n",
       "    </tr>\n",
       "    <tr>\n",
       "      <th>2</th>\n",
       "      <td>REGION</td>\n",
       "      <td>AFE</td>\n",
       "      <td>Eastern &amp; Southern Africa</td>\n",
       "      <td>BDI</td>\n",
       "      <td>Burundi</td>\n",
       "    </tr>\n",
       "    <tr>\n",
       "      <th>3</th>\n",
       "      <td>REGION</td>\n",
       "      <td>AFE</td>\n",
       "      <td>Eastern &amp; Southern Africa</td>\n",
       "      <td>COM</td>\n",
       "      <td>Comoros</td>\n",
       "    </tr>\n",
       "    <tr>\n",
       "      <th>4</th>\n",
       "      <td>REGION</td>\n",
       "      <td>AFE</td>\n",
       "      <td>Eastern &amp; Southern Africa</td>\n",
       "      <td>COD</td>\n",
       "      <td>Congo, Dem. Rep.</td>\n",
       "    </tr>\n",
       "    <tr>\n",
       "      <th>...</th>\n",
       "      <td>...</td>\n",
       "      <td>...</td>\n",
       "      <td>...</td>\n",
       "      <td>...</td>\n",
       "      <td>...</td>\n",
       "    </tr>\n",
       "    <tr>\n",
       "      <th>4401</th>\n",
       "      <td>CONTINENT</td>\n",
       "      <td>009</td>\n",
       "      <td>Oceania</td>\n",
       "      <td>WSM</td>\n",
       "      <td>Samoa</td>\n",
       "    </tr>\n",
       "    <tr>\n",
       "      <th>4402</th>\n",
       "      <td>CONTINENT</td>\n",
       "      <td>009</td>\n",
       "      <td>Oceania</td>\n",
       "      <td>TKL</td>\n",
       "      <td>Tokelau (NZ)</td>\n",
       "    </tr>\n",
       "    <tr>\n",
       "      <th>4403</th>\n",
       "      <td>CONTINENT</td>\n",
       "      <td>009</td>\n",
       "      <td>Oceania</td>\n",
       "      <td>TON</td>\n",
       "      <td>Tonga</td>\n",
       "    </tr>\n",
       "    <tr>\n",
       "      <th>4404</th>\n",
       "      <td>CONTINENT</td>\n",
       "      <td>009</td>\n",
       "      <td>Oceania</td>\n",
       "      <td>TUV</td>\n",
       "      <td>Tuvalu</td>\n",
       "    </tr>\n",
       "    <tr>\n",
       "      <th>4405</th>\n",
       "      <td>CONTINENT</td>\n",
       "      <td>009</td>\n",
       "      <td>Oceania</td>\n",
       "      <td>WLF</td>\n",
       "      <td>Wallis-et-Futuna (Fr.)</td>\n",
       "    </tr>\n",
       "  </tbody>\n",
       "</table>\n",
       "<p>4406 rows × 5 columns</p>\n",
       "</div>"
      ],
      "text/plain": [
       "     Group Type Group                 Group name Economy in group  \\\n",
       "0        REGION   AFE  Eastern & Southern Africa              AGO   \n",
       "1        REGION   AFE  Eastern & Southern Africa              BWA   \n",
       "2        REGION   AFE  Eastern & Southern Africa              BDI   \n",
       "3        REGION   AFE  Eastern & Southern Africa              COM   \n",
       "4        REGION   AFE  Eastern & Southern Africa              COD   \n",
       "...         ...   ...                        ...              ...   \n",
       "4401  CONTINENT   009                    Oceania              WSM   \n",
       "4402  CONTINENT   009                    Oceania              TKL   \n",
       "4403  CONTINENT   009                    Oceania              TON   \n",
       "4404  CONTINENT   009                    Oceania              TUV   \n",
       "4405  CONTINENT   009                    Oceania              WLF   \n",
       "\n",
       "       Economy in group name  \n",
       "0                     Angola  \n",
       "1                   Botswana  \n",
       "2                    Burundi  \n",
       "3                    Comoros  \n",
       "4           Congo, Dem. Rep.  \n",
       "...                      ...  \n",
       "4401                   Samoa  \n",
       "4402            Tokelau (NZ)  \n",
       "4403                   Tonga  \n",
       "4404                  Tuvalu  \n",
       "4405  Wallis-et-Futuna (Fr.)  \n",
       "\n",
       "[4406 rows x 5 columns]"
      ]
     },
     "execution_count": 20,
     "metadata": {},
     "output_type": "execute_result"
    }
   ],
   "source": [
    "# Merge the grouping hierarchy and name\n",
    "grouping = pd.merge(hierarchy_split, name, left_on=\"Group\", right_on=\"Code\", how=\"left\")\n",
    "grouping = pd.merge(grouping, name, left_on=\"Economy in group\", right_on=\"Code\", how=\"left\")\n",
    "grouping = grouping.drop(columns=[\"Code_x\", \"Code_y\"])\n",
    "grouping.rename(\n",
    "    columns={\n",
    "        \"Value_x\": \"Group name\",\n",
    "        \"Value_y\": \"Economy in group name\",\n",
    "    },\n",
    "    inplace=True,\n",
    ")\n",
    "grouping = grouping[['Group Type', 'Group', 'Group name', 'Economy in group', 'Economy in group name']]\n",
    "grouping"
   ]
  },
  {
   "cell_type": "code",
   "execution_count": 25,
   "id": "2b01977e",
   "metadata": {},
   "outputs": [
    {
     "name": "stdout",
     "output_type": "stream",
     "text": [
      "Group Type: ['REGION' 'REGION_UN' 'LENDING' 'INCOME' 'OTHER' 'CONTINENT']\n",
      "Group name missing: 0\n",
      "Economy in group name missing: 0\n"
     ]
    }
   ],
   "source": [
    "print(f\"Group Type: {grouping['Group Type'].unique()}\")\n",
    "print(f\"Group name missing: {grouping['Group name'].isna().sum()}\")\n",
    "print(f\"Economy in group name missing: {grouping['Economy in group name'].isna().sum()}\")"
   ]
  },
  {
   "cell_type": "markdown",
   "id": "7a13841f",
   "metadata": {},
   "source": [
    "## Strict WB region and income group\n",
    "This will fetch region and income group without variation (i.e. IBRD only, excluding high income, IDA total)  \n",
    "\n",
    "Region hierarchy ID: H_WB_REGIONS     \n",
    "    ['AFE', 'AFW', 'EAS', 'ECS', 'LCN', 'MEA', 'NAC', 'SAS', 'SSF']  \n",
    "    \n",
    "Income group hierarchy ID: H_WB_INCOME  \n",
    "    ['HIC', 'LIC', 'LMC', 'UMC', 'INX']    "
   ]
  },
  {
   "cell_type": "code",
   "execution_count": null,
   "id": "60d0331a",
   "metadata": {},
   "outputs": [],
   "source": [
    "region_hierarchy_version = '2.0'\n",
    "income_hierarchy_version = '2.0'\n",
    "fmr_prod_base_url = \"https://fmr.worldbank.org/FMR/sdmx/v2/structure/\"\n",
    "\n",
    "region_hierarchy_url = f\"{fmr_prod_base_url}hierarchy/WB/H_WB_REGIONS/{region_hierarchy_version}?format=fusion-json\"\n",
    "income_hierarchy_url = f\"{fmr_prod_base_url}hierarchy/WB/H_WB_INCOME/{income_hierarchy_version}?format=fusion-json\""
   ]
  },
  {
   "cell_type": "code",
   "execution_count": null,
   "id": "93234bd4",
   "metadata": {},
   "outputs": [],
   "source": [
    "# For region\n",
    "response = requests.get(region_hierarchy_url).json()\n",
    "\n",
    "region_code = []\n",
    "for item in response[\"Hierarchy\"][0][\"codes\"]:\n",
    "    for sub_item in item[\"codes\"]:\n",
    "        region_code.append(sub_item[\"id\"])\n",
    "region_code"
   ]
  },
  {
   "cell_type": "code",
   "execution_count": null,
   "id": "0370702f",
   "metadata": {},
   "outputs": [],
   "source": [
    "# For income group\n",
    "response = requests.get(income_hierarchy_url).json()\n",
    "income_code = []\n",
    "for item in response[\"Hierarchy\"][0][\"codes\"]:\n",
    "    income_code.append(item[\"id\"])\n",
    "income_code"
   ]
  },
  {
   "cell_type": "code",
   "execution_count": null,
   "id": "2a2ce10a",
   "metadata": {},
   "outputs": [],
   "source": [
    "wb_cl_long = get_wb_classifications('37.0')\n",
    "\n",
    "# For region and income group, only keep value in region_code and income_code\n",
    "wb_cl_long = wb_cl_long[~((wb_cl_long['group'] == 'REGION') & (~wb_cl_long['value'].isin(region_code)))]\n",
    "wb_cl_long = wb_cl_long[~((wb_cl_long['group'] == 'INCOME') & (~wb_cl_long['value'].isin(income_code)))]\n",
    "\n",
    "# Pivot to wide format\n",
    "wide = wb_cl_long.pivot_table(index=\"ISO3\", columns=\"group\", values=\"value\", aggfunc=lambda x: ','.join(x)).reset_index()\n",
    "type_to_keep = ['CONTINENT', 'REGION', 'INCOME']\n",
    "wb_cl_wide = wide[[\"ISO3\"] + type_to_keep]\n",
    "wb_cl_wide"
   ]
  },
  {
   "cell_type": "code",
   "execution_count": null,
   "id": "8f3a74cf",
   "metadata": {},
   "outputs": [],
   "source": [
    "# Final function to get strict WB classifications in wide format\n",
    "def get_wb_classifications_strict(\n",
    "    grouping_version=\"38.0\",\n",
    "    region_version=\"2.0\",\n",
    "    income_version=\"2.0\",\n",
    "    fmr_prod_base_url=\"https://fmr.worldbank.org/FMR/sdmx/v2/structure/\",\n",
    "    type_to_keep=(\"CONTINENT\", \"REGION\", \"INCOME\"),\n",
    "):\n",
    "    \"\"\"\n",
    "    Fetch World Bank classifications (continent, region, income) mapped to ISO3 codes.\n",
    "\n",
    "    Parameters\n",
    "    ----------\n",
    "    grouping_version : str, optional\n",
    "        Version of the World Bank reference area groups hierarchy. Default is \"38.0\"\n",
    "        (corresponding to FY26).\n",
    "    region_version : str, optional\n",
    "        Version of the World Bank regions hierarchy. Default is \"2.0\".\n",
    "    income_version : str, optional\n",
    "        Version of the World Bank income groups hierarchy. Default is \"2.0\".\n",
    "    fmr_prod_base_url : str, optional\n",
    "        Base URL for accessing the World Bank FMR SDMX structures. Default is\n",
    "        \"https://fmr.worldbank.org/FMR/sdmx/v2/structure/\".\n",
    "    type_to_keep : tuple of str, optional\n",
    "        Classification types to keep in the final table. Default is\n",
    "        (\"CONTINENT\", \"REGION\", \"INCOME\").\n",
    "\n",
    "    Returns\n",
    "    -------\n",
    "    pandas.DataFrame\n",
    "        A wide-format dataframe containing ISO3 country codes as rows and selected\n",
    "        classification types (e.g., CONTINENT, REGION, INCOME) as columns.\n",
    "    \"\"\"\n",
    "\n",
    "    ref_area_groups_url = (\n",
    "        f\"{fmr_prod_base_url}hierarchy/WB/H_REF_AREA_GROUPS/{grouping_version}?format=fusion-json\"\n",
    "    )\n",
    "    region_hierarchy_url = (\n",
    "        f\"{fmr_prod_base_url}hierarchy/WB/H_WB_REGIONS/{region_version}?format=fusion-json\"\n",
    "    )\n",
    "    income_hierarchy_url = (\n",
    "        f\"{fmr_prod_base_url}hierarchy/WB/H_WB_INCOME/{income_version}?format=fusion-json\"\n",
    "    )\n",
    "\n",
    "    # Parse H_REF_AREA_GROUPS hierarchy\n",
    "    response = requests.get(ref_area_groups_url).json()\n",
    "    code_data = [\n",
    "        {\"Code_URN\": sub2[\"urn\"].split(\")\")[-1]}\n",
    "        for item in response[\"Hierarchy\"][0][\"codes\"]\n",
    "        for sub in item.get(\"codes\", [])\n",
    "        for sub2 in sub.get(\"codes\", [])\n",
    "    ]\n",
    "\n",
    "    # Split URNs into structured columns\n",
    "    res_split = (\n",
    "        pd.DataFrame(code_data)[\"Code_URN\"]\n",
    "        .str.split(\".\", expand=True)\n",
    "        .rename(columns={1: \"group\", 2: \"value\", 3: \"ISO3\"})\n",
    "        .drop(columns=[0])\n",
    "    )\n",
    "\n",
    "    # Get valid region codes \n",
    "    region_response = requests.get(region_hierarchy_url).json()\n",
    "    region_codes = [\n",
    "        sub[\"id\"]\n",
    "        for item in region_response[\"Hierarchy\"][0][\"codes\"]\n",
    "        for sub in item.get(\"codes\", [])\n",
    "    ]\n",
    "\n",
    "    # Get valid income codes \n",
    "    income_response = requests.get(income_hierarchy_url).json()\n",
    "    income_codes = [item[\"id\"] for item in income_response[\"Hierarchy\"][0][\"codes\"]]\n",
    "\n",
    "    # Filter invalid REGION / INCOME values \n",
    "    filters = {\n",
    "        \"REGION\": set(region_codes),\n",
    "        \"INCOME\": set(income_codes),\n",
    "    }\n",
    "    for grp, valid_values in filters.items():\n",
    "        res_split = res_split[\n",
    "            ~((res_split[\"group\"] == grp) & (~res_split[\"value\"].isin(valid_values)))\n",
    "        ]\n",
    "\n",
    "    # Pivot to wide format\n",
    "    wide = (\n",
    "        res_split.pivot_table(\n",
    "            index=\"ISO3\",\n",
    "            columns=\"group\",\n",
    "            values=\"value\",\n",
    "            aggfunc=lambda x: \",\".join(sorted(set(x))),\n",
    "        )\n",
    "        .reset_index()\n",
    "    )\n",
    "\n",
    "    # Keep only requested groups\n",
    "    return wide[[\"ISO3\"] + [col for col in type_to_keep if col in wide.columns]]"
   ]
  }
 ],
 "metadata": {
  "kernelspec": {
   "display_name": "Python 3 (ipykernel)",
   "language": "python",
   "name": "python3"
  },
  "language_info": {
   "codemirror_mode": {
    "name": "ipython",
    "version": 3
   },
   "file_extension": ".py",
   "mimetype": "text/x-python",
   "name": "python",
   "nbconvert_exporter": "python",
   "pygments_lexer": "ipython3",
   "version": "3.10.16"
  }
 },
 "nbformat": 4,
 "nbformat_minor": 5
}
